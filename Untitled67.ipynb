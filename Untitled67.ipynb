{
  "nbformat": 4,
  "nbformat_minor": 0,
  "metadata": {
    "colab": {
      "provenance": [],
      "gpuType": "T4",
      "mount_file_id": "1rmtJQw6OS3Uq_a1s4MQcDiYcEQH9UsI4",
      "authorship_tag": "ABX9TyNTR89gpu6loNjWLdPy7H91",
      "include_colab_link": true
    },
    "kernelspec": {
      "name": "python3",
      "display_name": "Python 3"
    },
    "language_info": {
      "name": "python"
    },
    "accelerator": "GPU"
  },
  "cells": [
    {
      "cell_type": "markdown",
      "metadata": {
        "id": "view-in-github",
        "colab_type": "text"
      },
      "source": [
        "<a href=\"https://colab.research.google.com/github/Tanudhillod/ComputerVisionProject/blob/main/Untitled67.ipynb\" target=\"_parent\"><img src=\"https://colab.research.google.com/assets/colab-badge.svg\" alt=\"Open In Colab\"/></a>"
      ]
    },
    {
      "cell_type": "code",
      "execution_count": 1,
      "metadata": {
        "colab": {
          "base_uri": "https://localhost:8080/"
        },
        "id": "TIEjDCwllC5e",
        "outputId": "a2ae4b01-9031-4186-87a3-a2f959f2628a"
      },
      "outputs": [
        {
          "output_type": "stream",
          "name": "stdout",
          "text": [
            "Requirement already satisfied: moviepy in /usr/local/lib/python3.12/dist-packages (1.0.3)\n",
            "Requirement already satisfied: opencv-python in /usr/local/lib/python3.12/dist-packages (4.12.0.88)\n",
            "Requirement already satisfied: tqdm in /usr/local/lib/python3.12/dist-packages (4.67.1)\n",
            "Requirement already satisfied: decorator<5.0,>=4.0.2 in /usr/local/lib/python3.12/dist-packages (from moviepy) (4.4.2)\n",
            "Requirement already satisfied: requests<3.0,>=2.8.1 in /usr/local/lib/python3.12/dist-packages (from moviepy) (2.32.4)\n",
            "Requirement already satisfied: proglog<=1.0.0 in /usr/local/lib/python3.12/dist-packages (from moviepy) (0.1.12)\n",
            "Requirement already satisfied: numpy>=1.17.3 in /usr/local/lib/python3.12/dist-packages (from moviepy) (2.0.2)\n",
            "Requirement already satisfied: imageio<3.0,>=2.5 in /usr/local/lib/python3.12/dist-packages (from moviepy) (2.37.0)\n",
            "Requirement already satisfied: imageio-ffmpeg>=0.2.0 in /usr/local/lib/python3.12/dist-packages (from moviepy) (0.6.0)\n",
            "Requirement already satisfied: pillow>=8.3.2 in /usr/local/lib/python3.12/dist-packages (from imageio<3.0,>=2.5->moviepy) (11.3.0)\n",
            "Requirement already satisfied: charset_normalizer<4,>=2 in /usr/local/lib/python3.12/dist-packages (from requests<3.0,>=2.8.1->moviepy) (3.4.4)\n",
            "Requirement already satisfied: idna<4,>=2.5 in /usr/local/lib/python3.12/dist-packages (from requests<3.0,>=2.8.1->moviepy) (3.11)\n",
            "Requirement already satisfied: urllib3<3,>=1.21.1 in /usr/local/lib/python3.12/dist-packages (from requests<3.0,>=2.8.1->moviepy) (2.5.0)\n",
            "Requirement already satisfied: certifi>=2017.4.17 in /usr/local/lib/python3.12/dist-packages (from requests<3.0,>=2.8.1->moviepy) (2025.10.5)\n"
          ]
        }
      ],
      "source": [
        "!pip install moviepy opencv-python tqdm"
      ]
    },
    {
      "cell_type": "code",
      "source": [
        "import os\n",
        "from moviepy.editor import VideoFileClip, concatenate_videoclips, AudioFileClip, concatenate_audioclips, vfx\n",
        "from tqdm import tqdm\n",
        "import numpy as np\n",
        "\n",
        "# Paths (edit according to your Drive)\n",
        "video_folder = \"/content/drive/MyDrive/wedding_Dataset/Dataset-20251029T152346Z-1-001/Dataset\"\n",
        "music_folder = \"/content/drive/MyDrive/music_bank\"\n",
        "output_path = \"/content/drive/MyDrive/final_cinematic_wedding.mp4\"\n"
      ],
      "metadata": {
        "colab": {
          "base_uri": "https://localhost:8080/"
        },
        "id": "HL1sbcpomBbP",
        "outputId": "befc4ca0-c612-4cb2-9ad5-72d3c0e90fe4"
      },
      "execution_count": 2,
      "outputs": [
        {
          "output_type": "stream",
          "name": "stderr",
          "text": [
            "/usr/local/lib/python3.12/dist-packages/moviepy/config_defaults.py:47: SyntaxWarning: invalid escape sequence '\\P'\n",
            "  IMAGEMAGICK_BINARY = r\"C:\\Program Files\\ImageMagick-6.8.8-Q16\\magick.exe\"\n",
            "/usr/local/lib/python3.12/dist-packages/moviepy/video/io/ffmpeg_reader.py:294: SyntaxWarning: invalid escape sequence '\\d'\n",
            "  lines_video = [l for l in lines if ' Video: ' in l and re.search('\\d+x\\d+', l)]\n",
            "/usr/local/lib/python3.12/dist-packages/moviepy/video/io/ffmpeg_reader.py:367: SyntaxWarning: invalid escape sequence '\\d'\n",
            "  rotation_lines = [l for l in lines if 'rotate          :' in l and re.search('\\d+$', l)]\n",
            "/usr/local/lib/python3.12/dist-packages/moviepy/video/io/ffmpeg_reader.py:370: SyntaxWarning: invalid escape sequence '\\d'\n",
            "  match = re.search('\\d+$', rotation_line)\n",
            "WARNING:py.warnings:/usr/local/lib/python3.12/dist-packages/moviepy/video/io/sliders.py:61: SyntaxWarning: \"is\" with 'str' literal. Did you mean \"==\"?\n",
            "  if event.key is 'enter':\n",
            "\n"
          ]
        }
      ]
    },
    {
      "cell_type": "code",
      "source": [
        "def apply_cinematic_filter(clip):\n",
        "    def filter_frame(frame):\n",
        "        img = frame.astype(np.float32) / 255.0\n",
        "        img = np.clip((img - 0.05) * 1.1 + 0.03, 0, 1)\n",
        "        gray = img.mean(axis=2, keepdims=True)\n",
        "        img = img * 0.9 + gray * 0.1\n",
        "        img[..., 0] *= 1.03  # tiny red lift\n",
        "        img[..., 2] *= 0.97  # tiny blue pull\n",
        "        return (np.clip(img, 0, 1) * 255).astype(np.uint8)\n",
        "    return clip.fl_image(filter_frame)\n"
      ],
      "metadata": {
        "id": "HF4-6JOCmj7A"
      },
      "execution_count": 3,
      "outputs": []
    },
    {
      "cell_type": "code",
      "source": [
        "video_files = sorted(\n",
        "    [os.path.join(video_folder, f) for f in os.listdir(video_folder) if f.endswith(('.mp4', '.mov'))],\n",
        "    key=lambda x: int(''.join(filter(str.isdigit, os.path.basename(x))))\n",
        ")\n",
        "\n",
        "clips = []\n",
        "for file in tqdm(video_files):\n",
        "    clip = VideoFileClip(file)\n",
        "    clip = apply_cinematic_filter(clip)\n",
        "    clip = clip.crossfadein(1).crossfadeout(1)\n",
        "    clips.append(clip)\n",
        "\n",
        "final_video = concatenate_videoclips(clips, method=\"compose\")\n",
        "final_video = final_video.fadein(2).fadeout(2)\n"
      ],
      "metadata": {
        "colab": {
          "base_uri": "https://localhost:8080/"
        },
        "id": "hJbksY07moDA",
        "outputId": "d8ee0f36-d0b0-4211-99cd-356e4f98ee2a"
      },
      "execution_count": 4,
      "outputs": [
        {
          "output_type": "stream",
          "name": "stderr",
          "text": [
            "100%|██████████| 13/13 [00:19<00:00,  1.52s/it]\n"
          ]
        }
      ]
    },
    {
      "cell_type": "code",
      "source": [
        "music_files = sorted(\n",
        "    [os.path.join(music_folder, f) for f in os.listdir(music_folder) if f.endswith('.mp3')]\n",
        ")\n",
        "\n",
        "music_clips = [AudioFileClip(f) for f in music_files]\n",
        "merged_music = concatenate_audioclips(music_clips)\n",
        "merged_music = merged_music.volumex(0.3)\n",
        "\n",
        "# Match music to video length\n",
        "if merged_music.duration < final_video.duration:\n",
        "    loop_count = int(np.ceil(final_video.duration / merged_music.duration))\n",
        "    merged_music = concatenate_audioclips(music_clips * loop_count)\n",
        "\n",
        "merged_music = merged_music.subclip(0, final_video.duration)\n",
        "final_video = final_video.set_audio(merged_music)\n"
      ],
      "metadata": {
        "id": "kEsxDr0ymt6B"
      },
      "execution_count": 5,
      "outputs": []
    },
    {
      "cell_type": "code",
      "source": [
        "final_video.write_videofile(output_path, codec=\"libx264\", audio_codec=\"aac\")\n"
      ],
      "metadata": {
        "colab": {
          "base_uri": "https://localhost:8080/"
        },
        "id": "3llKaYsjmvbr",
        "outputId": "3c73ae51-5c5a-4b07-f225-c1b7aa488419"
      },
      "execution_count": 6,
      "outputs": [
        {
          "output_type": "stream",
          "name": "stdout",
          "text": [
            "Moviepy - Building video /content/drive/MyDrive/final_cinematic_wedding.mp4.\n",
            "MoviePy - Writing audio in final_cinematic_weddingTEMP_MPY_wvf_snd.mp4\n"
          ]
        },
        {
          "output_type": "stream",
          "name": "stderr",
          "text": []
        },
        {
          "output_type": "stream",
          "name": "stdout",
          "text": [
            "MoviePy - Done.\n",
            "Moviepy - Writing video /content/drive/MyDrive/final_cinematic_wedding.mp4\n",
            "\n"
          ]
        },
        {
          "output_type": "stream",
          "name": "stderr",
          "text": []
        },
        {
          "output_type": "stream",
          "name": "stdout",
          "text": [
            "Moviepy - Done !\n",
            "Moviepy - video ready /content/drive/MyDrive/final_cinematic_wedding.mp4\n"
          ]
        }
      ]
    }
  ]
}